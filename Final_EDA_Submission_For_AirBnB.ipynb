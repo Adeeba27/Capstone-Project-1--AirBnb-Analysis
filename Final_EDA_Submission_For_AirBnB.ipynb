{
  "nbformat": 4,
  "nbformat_minor": 0,
  "metadata": {
    "colab": {
      "provenance": [],
      "collapsed_sections": [
        "FJNUwmbgGyua",
        "w6K7xa23Elo4",
        "yQaldy8SH6Dl",
        "PH-0ReGfmX4f",
        "mDgbUHAGgjLW",
        "O_i_v8NEhb9l",
        "HhfV-JJviCcP",
        "Y3lxredqlCYt",
        "3RnN4peoiCZX",
        "x71ZqKXriCWQ",
        "7hBIi_osiCS2",
        "JlHwYmJAmNHm",
        "35m5QtbWiB9F",
        "PoPl-ycgm1ru",
        "H0kj-8xxnORC",
        "nA9Y7ga8ng1Z",
        "PBTbrJXOngz2",
        "u3PMJOP6ngxN",
        "dauF4eBmngu3",
        "bKJF3rekwFvQ",
        "MSa1f5Uengrz",
        "GF8Ens_Soomf",
        "0wOQAZs5pc--",
        "K5QZ13OEpz2H",
        "lQ7QKXXCp7Bj",
        "448CDAPjqfQr",
        "KSlN3yHqYklG",
        "t6dVpIINYklI",
        "ijmpgYnKYklI",
        "-JiQyfWJYklI",
        "EM7whBJCYoAo",
        "fge-S5ZAYoAp",
        "85gYPyotYoAp",
        "RoGjAbkUYoAp",
        "4Of9eVA-YrdM",
        "iky9q4vBYrdO",
        "F6T5p64dYrdO",
        "y-Ehk30pYrdP",
        "bamQiAODYuh1",
        "QHF8YVU7Yuh3",
        "GwzvFGzlYuh3",
        "qYpmQ266Yuh3",
        "OH-pJp9IphqM",
        "bbFf2-_FphqN",
        "_ouA3fa0phqN",
        "Seke61FWphqN",
        "PIIx-8_IphqN",
        "t27r6nlMphqO",
        "r2jJGEOYphqO",
        "b0JNsNcRphqO",
        "BZR9WyysphqO",
        "jj7wYXLtphqO",
        "eZrbJ2SmphqO",
        "rFu4xreNphqO",
        "YJ55k-q6phqO",
        "gCFgpxoyphqP",
        "OVtJsKN_phqQ",
        "lssrdh5qphqQ",
        "U2RJ9gkRphqQ",
        "1M8mcRywphqQ",
        "tgIPom80phqQ",
        "JMzcOPDDphqR",
        "x-EpHcCOp1ci",
        "X_VqEhTip1ck",
        "8zGJKyg5p1ck",
        "PVzmfK_Ep1ck",
        "n3dbpmDWp1ck",
        "ylSl6qgtp1ck",
        "ZWILFDl5p1ck",
        "M7G43BXep1ck",
        "Ag9LCva-p1cl",
        "E6MkPsBcp1cl",
        "2cELzS2fp1cl",
        "3MPXvC8up1cl",
        "NC_X3p0fY2L0",
        "UV0SzAkaZNRQ",
        "YPEH6qLeZNRQ",
        "q29F0dvdveiT",
        "EXh0U9oCveiU",
        "22aHeOlLveiV",
        "JcMwzZxoAimU",
        "8G2x9gOozGDZ",
        "gIfDvo9L0UH2"
      ],
      "include_colab_link": true
    },
    "kernelspec": {
      "name": "python3",
      "display_name": "Python 3"
    },
    "language_info": {
      "name": "python"
    },
    "gpuClass": "standard"
  },
  "cells": [
    {
      "cell_type": "markdown",
      "metadata": {
        "id": "view-in-github",
        "colab_type": "text"
      },
      "source": [
        "<a href=\"https://colab.research.google.com/github/Adeeba27/Capstone-Project-1-Hotel-Booking-Analysis/blob/main/Final_EDA_Submission_For_AirBnB.ipynb\" target=\"_parent\"><img src=\"https://colab.research.google.com/assets/colab-badge.svg\" alt=\"Open In Colab\"/></a>"
      ]
    },
    {
      "cell_type": "markdown",
      "source": [
        "# **Project Name**    - AirBnB Bookings Analysis\n",
        "\n"
      ],
      "metadata": {
        "id": "vncDsAP0Gaoa"
      }
    },
    {
      "cell_type": "markdown",
      "source": [
        "##### **Project Type**    - EDA\n",
        "##### **Contribution**    - Team\n",
        "##### **Team Member 1 -**Purushottam\n",
        "##### **Team Member 2 -**Uday Naidu\n",
        "##### **Team Member 3 -**Adeeba Fayyaz Khan\n",
        "##### **Team Member 4 -**Hussain Shamaji"
      ],
      "metadata": {
        "id": "beRrZCGUAJYm"
      }
    },
    {
      "cell_type": "markdown",
      "source": [
        "# **Project Summary -**"
      ],
      "metadata": {
        "id": "FJNUwmbgGyua"
      }
    },
    {
      "cell_type": "markdown",
      "source": [
        "1.\tAirbnb is an online marketplace for arranging or offering lodging, primarily homestays, or tourism experiences. Airbnb was founded in 2008 which is based in San Francisco, California. \n",
        "\n",
        "2.\tAirbnb, as in “Air Bed and Breakfast,” is a service that lets property owners rent out their spaces to traveller’s looking for a place to stay. Travelers can rent a space for multiple people to share, a shared space with private rooms, or the entire property for themselves.\n",
        "\n",
        "3.\tAirbnb offers around 6 million places to stay in throughout the world. At any given time, guests book 1.9 million listings.\n"
      ],
      "metadata": {
        "id": "F6v_1wHtG2nS"
      }
    },
    {
      "cell_type": "markdown",
      "source": [
        "# **GitHub Link -**"
      ],
      "metadata": {
        "id": "w6K7xa23Elo4"
      }
    },
    {
      "cell_type": "markdown",
      "source": [],
      "metadata": {
        "id": "h1o69JH3Eqqn"
      }
    },
    {
      "cell_type": "markdown",
      "source": [
        "\n",
        "We will be analyzing Airbnb NYC. As New York city is one of the famous tourist place in the world, Airbnb provides the rental homes and apartments to the tourists and travellers.\n",
        "\n",
        "The problem of this capstone project aims to analyse the data and millions of listings provided through company.\n",
        "\n",
        "We will be vizualizing various data of the company such as types of rooms, price information of each type of room as well as reviews of users and availabilty of rooms and how they influence the Airbnblistings.\n",
        "\n",
        "The project aims at coming up with a solutions that will be beneficial not only for the company but also for the users."
      ],
      "metadata": {
        "id": "FhRdNDMcdI0k"
      }
    },
    {
      "cell_type": "markdown",
      "source": [
        "#### **Define Your Business Objective?**"
      ],
      "metadata": {
        "id": "PH-0ReGfmX4f"
      }
    },
    {
      "cell_type": "markdown",
      "source": [
        "* Sort out number of properties in a neighbourhood-group(Cities) and find the top 10 properties with highest review.\n",
        "\n",
        "* Percentage of types of rooms listed in air bnb or types of rooms used the most according to the reviews.\n",
        "\n",
        "* Average room price on area available average roomprice on types of rooms.\n",
        "\n",
        "* Top listings with highest prices on types of room and top listings with cheapest price of rooms.\n",
        "* Find average of minimum number of nights people have stayed in neighbourhood group according to the room type.\n",
        "* Plot the graph to show loction of hotels according to their lattitude and longitude\n",
        "\n",
        "\n"
      ],
      "metadata": {
        "id": "PhDvGCAqmjP1"
      }
    },
    {
      "cell_type": "markdown",
      "source": [
        "# **General Guidelines** : -  "
      ],
      "metadata": {
        "id": "mDgbUHAGgjLW"
      }
    },
    {
      "cell_type": "markdown",
      "source": [
        "1.   Well-structured, formatted, and commented code is required. \n",
        "2.   Exception Handling, Production Grade Code & Deployment Ready Code will be a plus. Those students will be awarded some additional credits. \n",
        "     \n",
        "     The additional credits will have advantages over other students during Star Student selection.\n",
        "       \n",
        "             [ Note: - Deployment Ready Code is defined as, the whole .ipynb notebook should be executable in one go\n",
        "                       without a single error logged. ]\n",
        "\n",
        "3.   Each and every logic should have proper comments.\n",
        "4. You may add as many number of charts you want. Make Sure for each and every chart the following format should be answered.\n",
        "        \n",
        "\n",
        "```\n",
        "# Chart visualization code\n",
        "```\n",
        "            \n",
        "\n",
        "*   Why did you pick the specific chart?\n",
        "*   What is/are the insight(s) found from the chart?\n",
        "* Will the gained insights help creating a positive business impact? \n",
        "Are there any insights that lead to negative growth? Justify with specific reason.\n",
        "\n",
        "5. You have to create at least 20 logical & meaningful charts having important insights.\n",
        "\n",
        "\n",
        "[ Hints : - Do the Vizualization in  a structured way while following \"UBM\" Rule. \n",
        "\n",
        "U - Univariate Analysis,\n",
        "\n",
        "B - Bivariate Analysis (Numerical - Categorical, Numerical - Numerical, Categorical - Categorical)\n",
        "\n",
        "M - Multivariate Analysis\n",
        " ]\n",
        "\n",
        "\n",
        "\n"
      ],
      "metadata": {
        "id": "ZrxVaUj-hHfC"
      }
    },
    {
      "cell_type": "markdown",
      "source": [
        "# ***Let's Begin !***"
      ],
      "metadata": {
        "id": "O_i_v8NEhb9l"
      }
    },
    {
      "cell_type": "markdown",
      "source": [
        "## ***1. Know Your Data***"
      ],
      "metadata": {
        "id": "HhfV-JJviCcP"
      }
    },
    {
      "cell_type": "markdown",
      "source": [
        "### Import Libraries"
      ],
      "metadata": {
        "id": "Y3lxredqlCYt"
      }
    },
    {
      "cell_type": "code",
      "source": [
        "# Import Libraries\n",
        "import pandas as pd                #Library for pandas\n",
        "import numpy as np                 #Library for Numpy\n",
        "from datetime import datetime      #Datetime library \n",
        "import matplotlib.pyplot as plt    #Library for Visualization from matplotlib\n",
        "import seaborn as sns              #Library for seaborn visualization\n",
        "\n",
        "#Magic function that renders the figure in a notebook\n",
        "%matplotlib inline\n",
        "%lsmagic "
      ],
      "metadata": {
        "id": "M8Vqi-pPk-HR",
        "colab": {
          "base_uri": "https://localhost:8080/",
          "height": 0
        },
        "outputId": "0c55cc87-9c39-423b-eb54-deb666c6964b"
      },
      "execution_count": 1,
      "outputs": [
        {
          "output_type": "execute_result",
          "data": {
            "text/plain": [
              "Available line magics:\n",
              "%alias  %alias_magic  %autoawait  %autocall  %automagic  %autosave  %bookmark  %cat  %cd  %clear  %colors  %conda  %config  %connect_info  %cp  %debug  %dhist  %dirs  %doctest_mode  %ed  %edit  %env  %gui  %hist  %history  %killbgscripts  %ldir  %less  %lf  %lk  %ll  %load  %load_ext  %loadpy  %logoff  %logon  %logstart  %logstate  %logstop  %ls  %lsmagic  %lx  %macro  %magic  %man  %matplotlib  %mkdir  %more  %mv  %notebook  %page  %pastebin  %pdb  %pdef  %pdoc  %pfile  %pinfo  %pinfo2  %pip  %popd  %pprint  %precision  %prun  %psearch  %psource  %pushd  %pwd  %pycat  %pylab  %qtconsole  %quickref  %recall  %rehashx  %reload_ext  %rep  %rerun  %reset  %reset_selective  %rm  %rmdir  %run  %save  %sc  %set_env  %shell  %store  %sx  %system  %tb  %tensorflow_version  %time  %timeit  %unalias  %unload_ext  %who  %who_ls  %whos  %xdel  %xmode\n",
              "\n",
              "Available cell magics:\n",
              "%%!  %%HTML  %%SVG  %%bash  %%bigquery  %%capture  %%debug  %%file  %%html  %%javascript  %%js  %%latex  %%markdown  %%perl  %%prun  %%pypy  %%python  %%python2  %%python3  %%ruby  %%script  %%sh  %%shell  %%svg  %%sx  %%system  %%time  %%timeit  %%writefile\n",
              "\n",
              "Automagic is ON, % prefix IS NOT needed for line magics."
            ],
            "application/json": {
              "line": {
                "automagic": "AutoMagics",
                "autocall": "AutoMagics",
                "alias_magic": "BasicMagics",
                "lsmagic": "BasicMagics",
                "magic": "BasicMagics",
                "page": "BasicMagics",
                "pprint": "BasicMagics",
                "colors": "BasicMagics",
                "xmode": "BasicMagics",
                "quickref": "BasicMagics",
                "doctest_mode": "BasicMagics",
                "gui": "BasicMagics",
                "precision": "BasicMagics",
                "notebook": "BasicMagics",
                "save": "CodeMagics",
                "pastebin": "CodeMagics",
                "loadpy": "CodeMagics",
                "load": "CodeMagics",
                "edit": "KernelMagics",
                "config": "ConfigMagics",
                "prun": "ExecutionMagics",
                "pdb": "ExecutionMagics",
                "debug": "ExecutionMagics",
                "tb": "ExecutionMagics",
                "run": "ExecutionMagics",
                "timeit": "ExecutionMagics",
                "time": "ExecutionMagics",
                "macro": "ExecutionMagics",
                "load_ext": "ExtensionMagics",
                "unload_ext": "ExtensionMagics",
                "reload_ext": "ExtensionMagics",
                "history": "HistoryMagics",
                "recall": "HistoryMagics",
                "rerun": "HistoryMagics",
                "logstart": "LoggingMagics",
                "logstop": "LoggingMagics",
                "logoff": "LoggingMagics",
                "logon": "LoggingMagics",
                "logstate": "LoggingMagics",
                "pinfo": "NamespaceMagics",
                "pinfo2": "NamespaceMagics",
                "pdef": "NamespaceMagics",
                "pdoc": "NamespaceMagics",
                "psource": "NamespaceMagics",
                "pfile": "NamespaceMagics",
                "psearch": "NamespaceMagics",
                "who_ls": "NamespaceMagics",
                "who": "NamespaceMagics",
                "whos": "NamespaceMagics",
                "reset": "NamespaceMagics",
                "reset_selective": "NamespaceMagics",
                "xdel": "NamespaceMagics",
                "alias": "OSMagics",
                "unalias": "OSMagics",
                "rehashx": "OSMagics",
                "pwd": "OSMagics",
                "cd": "OSMagics",
                "env": "OSMagics",
                "set_env": "OSMagics",
                "pushd": "OSMagics",
                "popd": "OSMagics",
                "dirs": "OSMagics",
                "dhist": "OSMagics",
                "sc": "OSMagics",
                "sx": "OSMagics",
                "system": "OSMagics",
                "bookmark": "OSMagics",
                "pycat": "OSMagics",
                "pip": "Other",
                "conda": "PackagingMagics",
                "matplotlib": "PylabMagics",
                "pylab": "PylabMagics",
                "killbgscripts": "ScriptMagics",
                "autoawait": "AsyncMagics",
                "ed": "Other",
                "hist": "Other",
                "rep": "Other",
                "clear": "KernelMagics",
                "less": "KernelMagics",
                "more": "KernelMagics",
                "man": "KernelMagics",
                "connect_info": "KernelMagics",
                "qtconsole": "KernelMagics",
                "autosave": "KernelMagics",
                "mkdir": "Other",
                "rmdir": "Other",
                "mv": "Other",
                "rm": "Other",
                "cp": "Other",
                "cat": "Other",
                "ls": "Other",
                "ll": "Other",
                "lf": "Other",
                "lk": "Other",
                "ldir": "Other",
                "lx": "Other",
                "store": "StoreMagics",
                "shell": "Other",
                "tensorflow_version": "Other"
              },
              "cell": {
                "js": "DisplayMagics",
                "javascript": "DisplayMagics",
                "latex": "DisplayMagics",
                "svg": "DisplayMagics",
                "html": "DisplayMagics",
                "markdown": "DisplayMagics",
                "prun": "ExecutionMagics",
                "debug": "ExecutionMagics",
                "timeit": "ExecutionMagics",
                "time": "ExecutionMagics",
                "capture": "ExecutionMagics",
                "sx": "OSMagics",
                "system": "OSMagics",
                "!": "OSMagics",
                "writefile": "OSMagics",
                "script": "ScriptMagics",
                "sh": "Other",
                "bash": "Other",
                "perl": "Other",
                "ruby": "Other",
                "python": "Other",
                "python2": "Other",
                "python3": "Other",
                "pypy": "Other",
                "SVG": "Other",
                "HTML": "Other",
                "file": "Other",
                "bigquery": "Other",
                "shell": "Other"
              }
            }
          },
          "metadata": {},
          "execution_count": 1
        }
      ]
    },
    {
      "cell_type": "markdown",
      "source": [
        "### Dataset Loading"
      ],
      "metadata": {
        "id": "3RnN4peoiCZX"
      }
    },
    {
      "cell_type": "code",
      "source": [
        "# Load Dataset\n",
        "from google.colab import drive\n",
        "drive.mount('/content/drive')"
      ],
      "metadata": {
        "id": "4CkvbW_SlZ_R",
        "colab": {
          "base_uri": "https://localhost:8080/"
        },
        "outputId": "91354545-9a02-4e4b-a4cc-fe80d4298a00"
      },
      "execution_count": 2,
      "outputs": [
        {
          "output_type": "stream",
          "name": "stdout",
          "text": [
            "Mounted at /content/drive\n"
          ]
        }
      ]
    },
    {
      "cell_type": "markdown",
      "source": [
        "### Dataset First View"
      ],
      "metadata": {
        "id": "x71ZqKXriCWQ"
      }
    },
    {
      "cell_type": "code",
      "source": [
        "# Dataset First Look\n",
        "path='/content/drive/MyDrive/Capstone-Project-1-AirBnB/Airbnb NYC 2019.csv'\n",
        "df=pd.read_csv(path)"
      ],
      "metadata": {
        "id": "LWNFOSvLl09H",
        "colab": {
          "base_uri": "https://localhost:8080/",
          "height": 345
        },
        "outputId": "b36c2ad7-76fb-4c5c-8968-ded67b8e91eb"
      },
      "execution_count": 3,
      "outputs": [
        {
          "output_type": "error",
          "ename": "FileNotFoundError",
          "evalue": "ignored",
          "traceback": [
            "\u001b[0;31m---------------------------------------------------------------------------\u001b[0m",
            "\u001b[0;31mFileNotFoundError\u001b[0m                         Traceback (most recent call last)",
            "\u001b[0;32m<ipython-input-3-3895eacc40cb>\u001b[0m in \u001b[0;36m<module>\u001b[0;34m\u001b[0m\n\u001b[1;32m      1\u001b[0m \u001b[0;31m# Dataset First Look\u001b[0m\u001b[0;34m\u001b[0m\u001b[0;34m\u001b[0m\u001b[0;34m\u001b[0m\u001b[0m\n\u001b[1;32m      2\u001b[0m \u001b[0mpath\u001b[0m\u001b[0;34m=\u001b[0m\u001b[0;34m'/content/drive/MyDrive/Capstone-Project-1-AirBnB/Airbnb NYC 2019.csv'\u001b[0m\u001b[0;34m\u001b[0m\u001b[0;34m\u001b[0m\u001b[0m\n\u001b[0;32m----> 3\u001b[0;31m \u001b[0mdf\u001b[0m\u001b[0;34m=\u001b[0m\u001b[0mpd\u001b[0m\u001b[0;34m.\u001b[0m\u001b[0mread_csv\u001b[0m\u001b[0;34m(\u001b[0m\u001b[0mpath\u001b[0m\u001b[0;34m)\u001b[0m\u001b[0;34m\u001b[0m\u001b[0;34m\u001b[0m\u001b[0m\n\u001b[0m",
            "\u001b[0;32m/usr/local/lib/python3.8/dist-packages/pandas/util/_decorators.py\u001b[0m in \u001b[0;36mwrapper\u001b[0;34m(*args, **kwargs)\u001b[0m\n\u001b[1;32m    309\u001b[0m                     \u001b[0mstacklevel\u001b[0m\u001b[0;34m=\u001b[0m\u001b[0mstacklevel\u001b[0m\u001b[0;34m,\u001b[0m\u001b[0;34m\u001b[0m\u001b[0;34m\u001b[0m\u001b[0m\n\u001b[1;32m    310\u001b[0m                 )\n\u001b[0;32m--> 311\u001b[0;31m             \u001b[0;32mreturn\u001b[0m \u001b[0mfunc\u001b[0m\u001b[0;34m(\u001b[0m\u001b[0;34m*\u001b[0m\u001b[0margs\u001b[0m\u001b[0;34m,\u001b[0m \u001b[0;34m**\u001b[0m\u001b[0mkwargs\u001b[0m\u001b[0;34m)\u001b[0m\u001b[0;34m\u001b[0m\u001b[0;34m\u001b[0m\u001b[0m\n\u001b[0m\u001b[1;32m    312\u001b[0m \u001b[0;34m\u001b[0m\u001b[0m\n\u001b[1;32m    313\u001b[0m         \u001b[0;32mreturn\u001b[0m \u001b[0mwrapper\u001b[0m\u001b[0;34m\u001b[0m\u001b[0;34m\u001b[0m\u001b[0m\n",
            "\u001b[0;32m/usr/local/lib/python3.8/dist-packages/pandas/io/parsers/readers.py\u001b[0m in \u001b[0;36mread_csv\u001b[0;34m(filepath_or_buffer, sep, delimiter, header, names, index_col, usecols, squeeze, prefix, mangle_dupe_cols, dtype, engine, converters, true_values, false_values, skipinitialspace, skiprows, skipfooter, nrows, na_values, keep_default_na, na_filter, verbose, skip_blank_lines, parse_dates, infer_datetime_format, keep_date_col, date_parser, dayfirst, cache_dates, iterator, chunksize, compression, thousands, decimal, lineterminator, quotechar, quoting, doublequote, escapechar, comment, encoding, encoding_errors, dialect, error_bad_lines, warn_bad_lines, on_bad_lines, delim_whitespace, low_memory, memory_map, float_precision, storage_options)\u001b[0m\n\u001b[1;32m    584\u001b[0m     \u001b[0mkwds\u001b[0m\u001b[0;34m.\u001b[0m\u001b[0mupdate\u001b[0m\u001b[0;34m(\u001b[0m\u001b[0mkwds_defaults\u001b[0m\u001b[0;34m)\u001b[0m\u001b[0;34m\u001b[0m\u001b[0;34m\u001b[0m\u001b[0m\n\u001b[1;32m    585\u001b[0m \u001b[0;34m\u001b[0m\u001b[0m\n\u001b[0;32m--> 586\u001b[0;31m     \u001b[0;32mreturn\u001b[0m \u001b[0m_read\u001b[0m\u001b[0;34m(\u001b[0m\u001b[0mfilepath_or_buffer\u001b[0m\u001b[0;34m,\u001b[0m \u001b[0mkwds\u001b[0m\u001b[0;34m)\u001b[0m\u001b[0;34m\u001b[0m\u001b[0;34m\u001b[0m\u001b[0m\n\u001b[0m\u001b[1;32m    587\u001b[0m \u001b[0;34m\u001b[0m\u001b[0m\n\u001b[1;32m    588\u001b[0m \u001b[0;34m\u001b[0m\u001b[0m\n",
            "\u001b[0;32m/usr/local/lib/python3.8/dist-packages/pandas/io/parsers/readers.py\u001b[0m in \u001b[0;36m_read\u001b[0;34m(filepath_or_buffer, kwds)\u001b[0m\n\u001b[1;32m    480\u001b[0m \u001b[0;34m\u001b[0m\u001b[0m\n\u001b[1;32m    481\u001b[0m     \u001b[0;31m# Create the parser.\u001b[0m\u001b[0;34m\u001b[0m\u001b[0;34m\u001b[0m\u001b[0;34m\u001b[0m\u001b[0m\n\u001b[0;32m--> 482\u001b[0;31m     \u001b[0mparser\u001b[0m \u001b[0;34m=\u001b[0m \u001b[0mTextFileReader\u001b[0m\u001b[0;34m(\u001b[0m\u001b[0mfilepath_or_buffer\u001b[0m\u001b[0;34m,\u001b[0m \u001b[0;34m**\u001b[0m\u001b[0mkwds\u001b[0m\u001b[0;34m)\u001b[0m\u001b[0;34m\u001b[0m\u001b[0;34m\u001b[0m\u001b[0m\n\u001b[0m\u001b[1;32m    483\u001b[0m \u001b[0;34m\u001b[0m\u001b[0m\n\u001b[1;32m    484\u001b[0m     \u001b[0;32mif\u001b[0m \u001b[0mchunksize\u001b[0m \u001b[0;32mor\u001b[0m \u001b[0miterator\u001b[0m\u001b[0;34m:\u001b[0m\u001b[0;34m\u001b[0m\u001b[0;34m\u001b[0m\u001b[0m\n",
            "\u001b[0;32m/usr/local/lib/python3.8/dist-packages/pandas/io/parsers/readers.py\u001b[0m in \u001b[0;36m__init__\u001b[0;34m(self, f, engine, **kwds)\u001b[0m\n\u001b[1;32m    809\u001b[0m             \u001b[0mself\u001b[0m\u001b[0;34m.\u001b[0m\u001b[0moptions\u001b[0m\u001b[0;34m[\u001b[0m\u001b[0;34m\"has_index_names\"\u001b[0m\u001b[0;34m]\u001b[0m \u001b[0;34m=\u001b[0m \u001b[0mkwds\u001b[0m\u001b[0;34m[\u001b[0m\u001b[0;34m\"has_index_names\"\u001b[0m\u001b[0;34m]\u001b[0m\u001b[0;34m\u001b[0m\u001b[0;34m\u001b[0m\u001b[0m\n\u001b[1;32m    810\u001b[0m \u001b[0;34m\u001b[0m\u001b[0m\n\u001b[0;32m--> 811\u001b[0;31m         \u001b[0mself\u001b[0m\u001b[0;34m.\u001b[0m\u001b[0m_engine\u001b[0m \u001b[0;34m=\u001b[0m \u001b[0mself\u001b[0m\u001b[0;34m.\u001b[0m\u001b[0m_make_engine\u001b[0m\u001b[0;34m(\u001b[0m\u001b[0mself\u001b[0m\u001b[0;34m.\u001b[0m\u001b[0mengine\u001b[0m\u001b[0;34m)\u001b[0m\u001b[0;34m\u001b[0m\u001b[0;34m\u001b[0m\u001b[0m\n\u001b[0m\u001b[1;32m    812\u001b[0m \u001b[0;34m\u001b[0m\u001b[0m\n\u001b[1;32m    813\u001b[0m     \u001b[0;32mdef\u001b[0m \u001b[0mclose\u001b[0m\u001b[0;34m(\u001b[0m\u001b[0mself\u001b[0m\u001b[0;34m)\u001b[0m\u001b[0;34m:\u001b[0m\u001b[0;34m\u001b[0m\u001b[0;34m\u001b[0m\u001b[0m\n",
            "\u001b[0;32m/usr/local/lib/python3.8/dist-packages/pandas/io/parsers/readers.py\u001b[0m in \u001b[0;36m_make_engine\u001b[0;34m(self, engine)\u001b[0m\n\u001b[1;32m   1038\u001b[0m             )\n\u001b[1;32m   1039\u001b[0m         \u001b[0;31m# error: Too many arguments for \"ParserBase\"\u001b[0m\u001b[0;34m\u001b[0m\u001b[0;34m\u001b[0m\u001b[0;34m\u001b[0m\u001b[0m\n\u001b[0;32m-> 1040\u001b[0;31m         \u001b[0;32mreturn\u001b[0m \u001b[0mmapping\u001b[0m\u001b[0;34m[\u001b[0m\u001b[0mengine\u001b[0m\u001b[0;34m]\u001b[0m\u001b[0;34m(\u001b[0m\u001b[0mself\u001b[0m\u001b[0;34m.\u001b[0m\u001b[0mf\u001b[0m\u001b[0;34m,\u001b[0m \u001b[0;34m**\u001b[0m\u001b[0mself\u001b[0m\u001b[0;34m.\u001b[0m\u001b[0moptions\u001b[0m\u001b[0;34m)\u001b[0m  \u001b[0;31m# type: ignore[call-arg]\u001b[0m\u001b[0;34m\u001b[0m\u001b[0;34m\u001b[0m\u001b[0m\n\u001b[0m\u001b[1;32m   1041\u001b[0m \u001b[0;34m\u001b[0m\u001b[0m\n\u001b[1;32m   1042\u001b[0m     \u001b[0;32mdef\u001b[0m \u001b[0m_failover_to_python\u001b[0m\u001b[0;34m(\u001b[0m\u001b[0mself\u001b[0m\u001b[0;34m)\u001b[0m\u001b[0;34m:\u001b[0m\u001b[0;34m\u001b[0m\u001b[0;34m\u001b[0m\u001b[0m\n",
            "\u001b[0;32m/usr/local/lib/python3.8/dist-packages/pandas/io/parsers/c_parser_wrapper.py\u001b[0m in \u001b[0;36m__init__\u001b[0;34m(self, src, **kwds)\u001b[0m\n\u001b[1;32m     49\u001b[0m \u001b[0;34m\u001b[0m\u001b[0m\n\u001b[1;32m     50\u001b[0m         \u001b[0;31m# open handles\u001b[0m\u001b[0;34m\u001b[0m\u001b[0;34m\u001b[0m\u001b[0;34m\u001b[0m\u001b[0m\n\u001b[0;32m---> 51\u001b[0;31m         \u001b[0mself\u001b[0m\u001b[0;34m.\u001b[0m\u001b[0m_open_handles\u001b[0m\u001b[0;34m(\u001b[0m\u001b[0msrc\u001b[0m\u001b[0;34m,\u001b[0m \u001b[0mkwds\u001b[0m\u001b[0;34m)\u001b[0m\u001b[0;34m\u001b[0m\u001b[0;34m\u001b[0m\u001b[0m\n\u001b[0m\u001b[1;32m     52\u001b[0m         \u001b[0;32massert\u001b[0m \u001b[0mself\u001b[0m\u001b[0;34m.\u001b[0m\u001b[0mhandles\u001b[0m \u001b[0;32mis\u001b[0m \u001b[0;32mnot\u001b[0m \u001b[0;32mNone\u001b[0m\u001b[0;34m\u001b[0m\u001b[0;34m\u001b[0m\u001b[0m\n\u001b[1;32m     53\u001b[0m \u001b[0;34m\u001b[0m\u001b[0m\n",
            "\u001b[0;32m/usr/local/lib/python3.8/dist-packages/pandas/io/parsers/base_parser.py\u001b[0m in \u001b[0;36m_open_handles\u001b[0;34m(self, src, kwds)\u001b[0m\n\u001b[1;32m    220\u001b[0m         \u001b[0mLet\u001b[0m \u001b[0mthe\u001b[0m \u001b[0mreaders\u001b[0m \u001b[0mopen\u001b[0m \u001b[0mIOHandles\u001b[0m \u001b[0mafter\u001b[0m \u001b[0mthey\u001b[0m \u001b[0mare\u001b[0m \u001b[0mdone\u001b[0m \u001b[0;32mwith\u001b[0m \u001b[0mtheir\u001b[0m \u001b[0mpotential\u001b[0m \u001b[0mraises\u001b[0m\u001b[0;34m.\u001b[0m\u001b[0;34m\u001b[0m\u001b[0;34m\u001b[0m\u001b[0m\n\u001b[1;32m    221\u001b[0m         \"\"\"\n\u001b[0;32m--> 222\u001b[0;31m         self.handles = get_handle(\n\u001b[0m\u001b[1;32m    223\u001b[0m             \u001b[0msrc\u001b[0m\u001b[0;34m,\u001b[0m\u001b[0;34m\u001b[0m\u001b[0;34m\u001b[0m\u001b[0m\n\u001b[1;32m    224\u001b[0m             \u001b[0;34m\"r\"\u001b[0m\u001b[0;34m,\u001b[0m\u001b[0;34m\u001b[0m\u001b[0;34m\u001b[0m\u001b[0m\n",
            "\u001b[0;32m/usr/local/lib/python3.8/dist-packages/pandas/io/common.py\u001b[0m in \u001b[0;36mget_handle\u001b[0;34m(path_or_buf, mode, encoding, compression, memory_map, is_text, errors, storage_options)\u001b[0m\n\u001b[1;32m    700\u001b[0m         \u001b[0;32mif\u001b[0m \u001b[0mioargs\u001b[0m\u001b[0;34m.\u001b[0m\u001b[0mencoding\u001b[0m \u001b[0;32mand\u001b[0m \u001b[0;34m\"b\"\u001b[0m \u001b[0;32mnot\u001b[0m \u001b[0;32min\u001b[0m \u001b[0mioargs\u001b[0m\u001b[0;34m.\u001b[0m\u001b[0mmode\u001b[0m\u001b[0;34m:\u001b[0m\u001b[0;34m\u001b[0m\u001b[0;34m\u001b[0m\u001b[0m\n\u001b[1;32m    701\u001b[0m             \u001b[0;31m# Encoding\u001b[0m\u001b[0;34m\u001b[0m\u001b[0;34m\u001b[0m\u001b[0;34m\u001b[0m\u001b[0m\n\u001b[0;32m--> 702\u001b[0;31m             handle = open(\n\u001b[0m\u001b[1;32m    703\u001b[0m                 \u001b[0mhandle\u001b[0m\u001b[0;34m,\u001b[0m\u001b[0;34m\u001b[0m\u001b[0;34m\u001b[0m\u001b[0m\n\u001b[1;32m    704\u001b[0m                 \u001b[0mioargs\u001b[0m\u001b[0;34m.\u001b[0m\u001b[0mmode\u001b[0m\u001b[0;34m,\u001b[0m\u001b[0;34m\u001b[0m\u001b[0;34m\u001b[0m\u001b[0m\n",
            "\u001b[0;31mFileNotFoundError\u001b[0m: [Errno 2] No such file or directory: '/content/drive/MyDrive/Capstone-Project-1-AirBnB/Airbnb NYC 2019.csv'"
          ]
        }
      ]
    },
    {
      "cell_type": "code",
      "source": [
        "#Top 5 Columns are\n",
        "df.head()"
      ],
      "metadata": {
        "id": "qbyrvIeniBFE"
      },
      "execution_count": null,
      "outputs": []
    },
    {
      "cell_type": "code",
      "source": [
        "# Lets drop few columns and check from the bottom \n",
        "droping_items=df.drop(['minimum_nights',\t'number_of_reviews',\t'last_review'\t,'reviews_per_month','latitude',\t'longitude'],axis=1).tail(2)\n",
        "droping_items\n"
      ],
      "metadata": {
        "id": "QmStTx8PiKM5"
      },
      "execution_count": null,
      "outputs": []
    },
    {
      "cell_type": "markdown",
      "source": [
        "## *** Data Vizualization, Storytelling & Experimenting with charts : Understand the relationships between variables***"
      ],
      "metadata": {
        "id": "7lWBtIB7rUjd"
      }
    },
    {
      "cell_type": "markdown",
      "source": [
        "#### Chart - 1"
      ],
      "metadata": {
        "id": "-wn1xGsitkHm"
      }
    },
    {
      "cell_type": "markdown",
      "source": [
        "\n",
        "\n",
        "* Sort out number of properties in a neighbourhood-group(Cities) to check out the \n",
        "top 10 properties with highest review."
      ],
      "metadata": {
        "id": "cKEgrwMQmt4z"
      }
    },
    {
      "cell_type": "code",
      "source": [
        "#Checking the null values in neighbourhood group and number of reviews.\n",
        "neighbourhood_group=df[~df['neighbourhood_group'].isnull()]['neighbourhood_group']\n",
        "number_of_reviews=df[~df['number_of_reviews'].isnull()]['number_of_reviews']\n",
        "list_shape=[df.shape,neighbourhood_group.shape,number_of_reviews.shape]\n",
        "list_shape                                                                      #No null data found"
      ],
      "metadata": {
        "id": "7pOsFylYs2-E"
      },
      "execution_count": null,
      "outputs": []
    },
    {
      "cell_type": "code",
      "source": [
        "#Sorting out neighbourhood_group according to number of reviews\n",
        "neigh_group_max_reviews=df.groupby(['name','host_name','neighbourhood_group'])['number_of_reviews'].max().reset_index()                   #checking the maximum counts of each neighbourhood according to their reviews \n",
        "for_plot_neighbourhood=neigh_group_max_reviews.sort_values(by='number_of_reviews', ascending=False,ignore_index=True)[:10]  #sorting the neighbourhood group according to their reviews\n",
        "for_plot_neighbourhood"
      ],
      "metadata": {
        "id": "yh2ocbLzsgSr"
      },
      "execution_count": null,
      "outputs": []
    },
    {
      "cell_type": "code",
      "source": [
        "#Plotting bar graphs for neighbourhood_group that has maximum reviews\n",
        "plt.rcParams['figure.figsize'] = (15, 8)\n",
        "width=0.4\n",
        "x=for_plot_neighbourhood['name']\n",
        "y=for_plot_neighbourhood['number_of_reviews']\n",
        "plt.bar(x,y,width)\n",
        "plt.xticks(x, rotation ='vertical')\n",
        "plt.title('Graph plotted according to the number of reviews and property name',fontsize=15)\n",
        "plt.ylabel('Total number_of_reviews',fontsize=10)\n",
        "plt.xlabel('Name of top 10 properties',fontsize=10)"
      ],
      "metadata": {
        "id": "n7yBLxT0pEpr"
      },
      "execution_count": null,
      "outputs": []
    },
    {
      "cell_type": "markdown",
      "source": [
        "##### 1. Why did you pick the specific chart?"
      ],
      "metadata": {
        "id": "h2zgqyMKr10U"
      }
    },
    {
      "cell_type": "markdown",
      "source": [
        "To show top 10 properties with highest reviews."
      ],
      "metadata": {
        "id": "MxkqGzCtr4Cy"
      }
    },
    {
      "cell_type": "markdown",
      "source": [
        "##### 2. What is/are the insight(s) found from the chart?"
      ],
      "metadata": {
        "id": "mCsVtQ68sOhP"
      }
    },
    {
      "cell_type": "markdown",
      "source": [
        "1. In the shown bar plot, x-axis represents the top 10 properties and y-axis \n",
        "represents number of reviews. \n",
        "2. From the plot, the highest number of reviews got to Room near JFK Queen Bed followed by Great bedroom in Manhattan."
      ],
      "metadata": {
        "id": "z0xAYb7Gskkz"
      }
    },
    {
      "cell_type": "markdown",
      "source": [
        "##### 3. Will the gained insights help creating a positive business impact? "
      ],
      "metadata": {
        "id": "fJ6MbtbsvAXo"
      }
    },
    {
      "cell_type": "markdown",
      "source": [
        "This chart can be useful for company to understand why some of their property have good and bad reviews which will be helpful for the company going forward."
      ],
      "metadata": {
        "id": "8o8RLRZjvGds"
      }
    },
    {
      "cell_type": "markdown",
      "source": [
        "#### Chart - 2"
      ],
      "metadata": {
        "id": "eOp0B_hLtoRo"
      }
    },
    {
      "cell_type": "markdown",
      "source": [
        "* Sort out cities from neighbourhood group to find out cities with top reviews"
      ],
      "metadata": {
        "id": "Ur8q0NMZFjPW"
      }
    },
    {
      "cell_type": "code",
      "source": [
        "sort_neigh_reviews=df.groupby(['neighbourhood_group'])['number_of_reviews'].max().reset_index()    # grouping neighbour hood and checking the max value of the group\n",
        "sort_neigh_reviews.sort_values(by='number_of_reviews',ascending=False,ignore_index=True)           #sorting the data according to number of reviews in decending order"
      ],
      "metadata": {
        "id": "CDXSXS-pFIKT"
      },
      "execution_count": null,
      "outputs": []
    },
    {
      "cell_type": "code",
      "source": [
        "#Creating graph for neighbourhood_group in context to reviews \n",
        "plt.rcParams['figure.figsize'] = (10, 5)\n",
        "width=0.4\n",
        "x=sort_neigh_reviews['neighbourhood_group']\n",
        "y=sort_neigh_reviews['number_of_reviews']\n",
        "plt.bar(x,y,width,color='#18D57F')\n",
        "plt.title('Graph plotted according to the number of reviews in each neighbood group',fontsize=15)\n",
        "plt.ylabel('Total number_of_reviews',fontsize=10)\n",
        "plt.xlabel('Neighbourhood group cities',fontsize=10)"
      ],
      "metadata": {
        "id": "tFNW44_MHNYF"
      },
      "execution_count": null,
      "outputs": []
    },
    {
      "cell_type": "markdown",
      "source": [
        "##### 1. Why did you pick the specific chart?"
      ],
      "metadata": {
        "id": "9lmTdpgJvhWA"
      }
    },
    {
      "cell_type": "markdown",
      "source": [
        "To show number of reviews in each neighbood group."
      ],
      "metadata": {
        "id": "1V_4QRcCviQq"
      }
    },
    {
      "cell_type": "markdown",
      "source": [
        "##### 2. What is/are the insight(s) found from the chart?"
      ],
      "metadata": {
        "id": "jIPXErUhv3wL"
      }
    },
    {
      "cell_type": "markdown",
      "source": [
        "1. In the shown bar plot, x-axis represents neighbourhood group and y-axis represents total number of reviews. \n",
        "2. The city Queen got most number of reviews (629) which is followed by Manhattan (607) and Brooklyn (488)."
      ],
      "metadata": {
        "id": "olRvCOZpv-DJ"
      }
    },
    {
      "cell_type": "markdown",
      "source": [
        "##### 3. Will the gained insights help creating a positive business impact? "
      ],
      "metadata": {
        "id": "4K3o8TK0wOou"
      }
    },
    {
      "cell_type": "markdown",
      "source": [
        "Company and investors can check the investment oppertunity in the neighbourhood group cities."
      ],
      "metadata": {
        "id": "cbeXRCtNwQN3"
      }
    },
    {
      "cell_type": "markdown",
      "source": [
        "#### Chart - 3"
      ],
      "metadata": {
        "id": "WDn_z6lttvvi"
      }
    },
    {
      "cell_type": "markdown",
      "source": [
        " * Percentage of types of rooms listed in air bnb or types of rooms used the \n",
        "most according to the reviews."
      ],
      "metadata": {
        "id": "7LKJbS1gp2Yd"
      }
    },
    {
      "cell_type": "code",
      "source": [
        "#check if the room_type column has null values\n",
        "room_type=df['room_type'].isnull().sum\n",
        "room_type"
      ],
      "metadata": {
        "id": "zgmy3ysjpBcX"
      },
      "execution_count": null,
      "outputs": []
    },
    {
      "cell_type": "code",
      "source": [
        "#when there are no null values we can count the types of each available room type\n",
        "room_type_value_count=df['room_type'].value_counts()\n",
        "room_type_value_count"
      ],
      "metadata": {
        "id": "jNUs76ttrAXL"
      },
      "execution_count": null,
      "outputs": []
    },
    {
      "cell_type": "code",
      "source": [
        "#Now we can make a Pie chart out of it\n",
        "colors=['lightskyblue','lightcoral','green']\n",
        "explode=[0,0,0.1]\n",
        "room_type_value_count.plot(kind='pie',colors=colors,explode=explode,autopct='%1.1f%%')\n",
        "plt.legend()\n",
        "plt.title('Types of Rooms available in the AirBnB')\n"
      ],
      "metadata": {
        "id": "O7dZrz1frm6j"
      },
      "execution_count": null,
      "outputs": []
    },
    {
      "cell_type": "markdown",
      "source": [
        "##### 1. Why did you pick the specific chart?"
      ],
      "metadata": {
        "id": "tWqPz28gwpDr"
      }
    },
    {
      "cell_type": "markdown",
      "source": [
        "To show Types of Rooms available in the AirBnB."
      ],
      "metadata": {
        "id": "Dbb_0YSkwqww"
      }
    },
    {
      "cell_type": "markdown",
      "source": [
        "##### 2. What is/are the insight(s) found from the chart?"
      ],
      "metadata": {
        "id": "cyZSvU0twrMq"
      }
    },
    {
      "cell_type": "markdown",
      "source": [
        "1. The shown pie chart represents the types of rooms available for Airbnb bookings. \n",
        "2. The Entire apartment contributes 52% in the overall rooms and second is private room with 45.7% and last, shared room with 2.4%."
      ],
      "metadata": {
        "id": "jjLCCgSYwwr1"
      }
    },
    {
      "cell_type": "markdown",
      "source": [
        "##### 3. Will the gained insights help creating a positive business impact? "
      ],
      "metadata": {
        "id": "66Gz_oEewyPL"
      }
    },
    {
      "cell_type": "markdown",
      "source": [
        "With this chart company and investors can look upon which room type is in demand."
      ],
      "metadata": {
        "id": "z6O8itPQy6gz"
      }
    },
    {
      "cell_type": "markdown",
      "source": [
        "#### Chart - 4"
      ],
      "metadata": {
        "id": "-RgDrRQht2D0"
      }
    },
    {
      "cell_type": "markdown",
      "source": [
        "* Check the Average room price in each area(neighbourhood_group) and find the average room price on types of rooms available(room_types)."
      ],
      "metadata": {
        "id": "Eqo-SNcLy0VN"
      }
    },
    {
      "cell_type": "code",
      "source": [
        "#For checking all the columns name\n",
        "for col in df:\n",
        "  print(col)"
      ],
      "metadata": {
        "id": "hvpu8rQbyyEJ"
      },
      "execution_count": null,
      "outputs": []
    },
    {
      "cell_type": "code",
      "source": [
        "#check if the there are null values in desired columns\n",
        "ls1_price=df['price'].isnull().sum()\n",
        "ls1_room_type=df['room_type'].isnull().sum()\n",
        "check_null_count=[ls1_price,ls1_room_type]\n",
        "check_null_count                                                #no null values found"
      ],
      "metadata": {
        "id": "L4SVYwFdShlL"
      },
      "execution_count": null,
      "outputs": []
    },
    {
      "cell_type": "code",
      "source": [
        "#Average price of listings in the neighbourhood_group\n",
        "average_price=df.groupby(['neighbourhood_group'])['price'].mean().reset_index()\n",
        "average_price_of_neighbourhood_group=average_price.sort_values(by='price',ascending=False,ignore_index=True)         #Sorted average price in decending order for neighbourhood_group\n",
        "average_price_of_neighbourhood_group"
      ],
      "metadata": {
        "id": "H_0-cKi4Wric"
      },
      "execution_count": null,
      "outputs": []
    },
    {
      "cell_type": "code",
      "source": [
        "#Creating graph for neighbourhood_group in context to price available in the listings\n",
        "plt.rcParams['figure.figsize'] = (10, 5)\n",
        "width=0.4\n",
        "x=average_price_of_neighbourhood_group['neighbourhood_group']\n",
        "y=average_price_of_neighbourhood_group['price']\n",
        "plt.bar(x,y,width,color='#7FD518')\n",
        "plt.title('Graph plotted according to the neighbourhood group with top prices from the listings',fontsize=15)\n",
        "plt.ylabel('Price datas from the AirBnB prices',fontsize=10)\n",
        "plt.xlabel('Neighbourhood group cities from AirBnB',fontsize=10)\n",
        "plt.grid()"
      ],
      "metadata": {
        "id": "hvtPX3pphaGo"
      },
      "execution_count": null,
      "outputs": []
    },
    {
      "cell_type": "markdown",
      "source": [
        "##### 1. Why did you pick the specific chart?"
      ],
      "metadata": {
        "id": "Ts_6ctWlw_Za"
      }
    },
    {
      "cell_type": "markdown",
      "source": [
        "To show neighbourhood group with top prices from the listings."
      ],
      "metadata": {
        "id": "EqWO6TbqzUEs"
      }
    },
    {
      "cell_type": "markdown",
      "source": [
        "##### 2. What is/are the insight(s) found from the chart?"
      ],
      "metadata": {
        "id": "eywRyzC4xwsv"
      }
    },
    {
      "cell_type": "markdown",
      "source": [
        "1. In the shown bar plot,  x-axis represents the cities of neighbourhood group  and y-axis represents average price data.\n",
        "2. The highest average price according to the bar plot is of Manhattan (196.87) followed by Brooklyn(124.38) and Staten Island(114.81)."
      ],
      "metadata": {
        "id": "Z7iKzbcZzWre"
      }
    },
    {
      "cell_type": "markdown",
      "source": [
        "##### 3. Will the gained insights help creating a positive business impact? "
      ],
      "metadata": {
        "id": "byoyE2pZyC0o"
      }
    },
    {
      "cell_type": "markdown",
      "source": [
        "The datas provide average price in each cities and showcasing them from highest to lowest thus representing the prices according to the cost of living. "
      ],
      "metadata": {
        "id": "CKAFThKRzkOH"
      }
    },
    {
      "cell_type": "markdown",
      "source": [
        "#### Chart - 5"
      ],
      "metadata": {
        "id": "RVlfxnR0uHON"
      }
    },
    {
      "cell_type": "code",
      "source": [
        "# Now we want datas for average prices on types of rooms available\n",
        "average_price_room=df.groupby(['room_type'])['price'].mean().reset_index()\n",
        "average_price_room_type=average_price_room.sort_values(by='price',ascending=False,ignore_index=True) \n",
        "average_price_room_type=average_price_room_type.set_index('room_type')\n",
        "average_price_room_type"
      ],
      "metadata": {
        "id": "KHiVuOKZjBe1"
      },
      "execution_count": null,
      "outputs": []
    },
    {
      "cell_type": "code",
      "source": [
        "#Plotting bar chart for average price in listings\n",
        "plt.rcParams['figure.figsize'] = (10, 5)\n",
        "average_price_room_type.plot(kind='bar',width=.2,color='#900C3F')\n",
        "plt.title('Average room price according to room types available')\n",
        "plt.ylabel('Average Price of rooms according to their types')\n",
        "plt.xlabel('Room types available in the listings')\n",
        "plt.grid()"
      ],
      "metadata": {
        "id": "F-e7JmoxkQEd"
      },
      "execution_count": null,
      "outputs": []
    },
    {
      "cell_type": "markdown",
      "source": [
        "##### 1. Why did you pick the specific chart?"
      ],
      "metadata": {
        "id": "Llq9KtrYxBoF"
      }
    },
    {
      "cell_type": "markdown",
      "source": [
        "To share the average room price according to room types available"
      ],
      "metadata": {
        "id": "4K7FD73f0JKE"
      }
    },
    {
      "cell_type": "markdown",
      "source": [
        "##### 2. What is/are the insight(s) found from the chart?"
      ],
      "metadata": {
        "id": "yDhCEeOYxuPK"
      }
    },
    {
      "cell_type": "markdown",
      "source": [
        "1. In the shown bar plot, x-axis represents the room types available and y-axis represents the average prices of the rooms. \n",
        "2. The highest average price of rooms are entire apartments which charges 211.79 followed by private room(89.78) and shared room(70.12)."
      ],
      "metadata": {
        "id": "rjvAY0zy0Nwe"
      }
    },
    {
      "cell_type": "markdown",
      "source": [
        "##### 3. Will the gained insights help creating a positive business impact? "
      ],
      "metadata": {
        "id": "zHE9MFClyHWi"
      }
    },
    {
      "cell_type": "markdown",
      "source": [
        "This datas can be useful insight for travellers who wants to gain knowledge on average room prices"
      ],
      "metadata": {
        "id": "w-zE-uKn0qYz"
      }
    },
    {
      "cell_type": "markdown",
      "source": [
        "#### Chart - 6"
      ],
      "metadata": {
        "id": "1_TMMspYuPCQ"
      }
    },
    {
      "cell_type": "markdown",
      "source": [
        "* Top listings with highest prices and top listings with cheapest price of rooms."
      ],
      "metadata": {
        "id": "4nCW1BBwqb1N"
      }
    },
    {
      "cell_type": "code",
      "source": [
        "#sorting the DataFrame of names and prices \n",
        "top_listing_hig_room_price=df[['name','price']].sort_values(by='price',ascending=False,ignore_index=True)[:10] \n",
        "top_listing_hig_room_price=top_listing_hig_room_price.set_index('name')"
      ],
      "metadata": {
        "id": "CLk_EWrtqQxt"
      },
      "execution_count": null,
      "outputs": []
    },
    {
      "cell_type": "code",
      "source": [
        "#Bar plot for top 10 listings according to their prices\n",
        "plt.rcParams['figure.figsize'] = (10, 5)\n",
        "top_listing_hig_room_price.plot(kind='bar',width=.2,color='#0C9B4B')\n",
        "plt.title('Room price for top listings in AirBnB')\n",
        "plt.ylabel('Prices available according to the listings')\n",
        "plt.xlabel('Listings with top prices available')\n",
        "plt.grid()"
      ],
      "metadata": {
        "id": "_lKapRVI9yFZ"
      },
      "execution_count": null,
      "outputs": []
    },
    {
      "cell_type": "markdown",
      "source": [
        "##### 1. Why did you pick the specific chart?"
      ],
      "metadata": {
        "id": "lEs8BHJLxEH4"
      }
    },
    {
      "cell_type": "markdown",
      "source": [
        "To check top 10 costliest properties."
      ],
      "metadata": {
        "id": "0fRw_vlt1CT-"
      }
    },
    {
      "cell_type": "markdown",
      "source": [
        "##### 2. What is/are the insight(s) found from the chart?"
      ],
      "metadata": {
        "id": "Y5R37K0Lxren"
      }
    },
    {
      "cell_type": "markdown",
      "source": [
        "1. In the shown bar plot, x-axis represents listings of house names and y-axis represents the prices in the data. \n",
        "2. In the graph, Furnished room in Astoria apartment, Luxury one bedroom apartment and 1-BR Lincoln center tied with the price of 10000$ followed by 2br – Heart of NYC, Quiet clean Lit @ LES and Chinatown and Spanish Harlem apartment."
      ],
      "metadata": {
        "id": "CCCJarua1Sus"
      }
    },
    {
      "cell_type": "markdown",
      "source": [
        "##### 3. Will the gained insights help creating a positive business impact? "
      ],
      "metadata": {
        "id": "kytAmA7XyKAw"
      }
    },
    {
      "cell_type": "markdown",
      "source": [
        "People who are looking for expensive properties to rent can look upon these datas."
      ],
      "metadata": {
        "id": "dH0r-0uo1_sk"
      }
    },
    {
      "cell_type": "markdown",
      "source": [
        "#### Chart - 7"
      ],
      "metadata": {
        "id": "KRlOq58GuUm2"
      }
    },
    {
      "cell_type": "code",
      "source": [
        "#sorting the DataFrame of names and prices for lowest listings\n",
        "dg=df[df['price']!=0] #cleaning up zeros from our dataframe where prices are zero\n",
        "dg.loc[dg['price']<=15, 'price'] = df['price'].median()  # setting up the average lowest price to 15\n",
        "top_listing_low_room_price=dg[['name','price']].sort_values(by='price',ascending=True,ignore_index=True)[:10] \n",
        "top_listing_low_room_price=top_listing_low_room_price.set_index('name')\n",
        "top_listing_low_room_price"
      ],
      "metadata": {
        "id": "eexkDn2LAZCm"
      },
      "execution_count": null,
      "outputs": []
    },
    {
      "cell_type": "code",
      "source": [
        "#Plotting graph cheapest hotels\n",
        "plt.rcParams['figure.figsize'] = (10, 5)\n",
        "top_listing_low_room_price.plot(kind='bar',width=.2,color='red')\n",
        "plt.title('Listings prices for cheapest hotels in AirBnB')\n",
        "plt.ylabel('Prices available according to the listings')\n",
        "plt.xlabel('Listings with cheapest prices available')\n",
        "plt.grid()"
      ],
      "metadata": {
        "id": "Z2KWfshI88OU"
      },
      "execution_count": null,
      "outputs": []
    },
    {
      "cell_type": "markdown",
      "source": [
        "##### 1. Why did you pick the specific chart?"
      ],
      "metadata": {
        "id": "E0iqP7YvxJta"
      }
    },
    {
      "cell_type": "markdown",
      "source": [
        "To check top 10 cheapest properties people can rent from AirBnB listings"
      ],
      "metadata": {
        "id": "uuixrjUH2GFh"
      }
    },
    {
      "cell_type": "markdown",
      "source": [
        "##### 2. What is/are the insight(s) found from the chart?"
      ],
      "metadata": {
        "id": "3-SPxX7ixpSU"
      }
    },
    {
      "cell_type": "markdown",
      "source": [
        "1. In the shown bar plot, x-axis represents the listing of houses and y-axis represents the lowest prices. \n",
        "2. From the plot, we can understand that The Oasis and Prewar classic NYC apartment are the cheapest houses in AirBnB listings"
      ],
      "metadata": {
        "id": "VpViWhyt2Pwu"
      }
    },
    {
      "cell_type": "markdown",
      "source": [
        "##### 3. Will the gained insights help creating a positive business impact? "
      ],
      "metadata": {
        "id": "9n7CMwKkyMpl"
      }
    },
    {
      "cell_type": "markdown",
      "source": [
        "People who wants to rent cheapest properties can get insights from these datas"
      ],
      "metadata": {
        "id": "NJ1IZ5mr2h88"
      }
    },
    {
      "cell_type": "markdown",
      "source": [
        "#### Chart - 8"
      ],
      "metadata": {
        "id": "t-pyeCFGuYX3"
      }
    },
    {
      "cell_type": "markdown",
      "source": [
        "* Find average of minimum number of nights people have stayed in neighbourhood group according to the room type."
      ],
      "metadata": {
        "id": "6rhKbhcL8mM1"
      }
    },
    {
      "cell_type": "code",
      "source": [
        "#Getting the average of minimum nights people have stayed according to the room type and getting the unstack data out of it.\n",
        "group_room_type_and_name_unstack=df.groupby(['neighbourhood_group','room_type'])['minimum_nights'].mean().unstack()\n",
        "group_room_type_and_name_unstack"
      ],
      "metadata": {
        "id": "EoP0MEkNwMXe"
      },
      "execution_count": null,
      "outputs": []
    },
    {
      "cell_type": "code",
      "source": [
        "#Plotting a candle chart for average numbernights people have prefered to stay for each room type in each neighbourhood group.\n",
        "df.groupby(['neighbourhood_group','room_type'])['minimum_nights'].mean().unstack().plot(kind=\"box\")\n",
        "plt.title('Minimum average number of nights people have stayed in neighbourhood group room type')\n",
        "plt.ylabel('Average number of nights')\n",
        "plt.xlabel('Types of rooms available')"
      ],
      "metadata": {
        "id": "FEB2Tue_uWNg"
      },
      "execution_count": null,
      "outputs": []
    },
    {
      "cell_type": "markdown",
      "source": [
        "##### 1. Why did you pick the specific chart?"
      ],
      "metadata": {
        "id": "QeUEuNyyxL2v"
      }
    },
    {
      "cell_type": "markdown",
      "source": [
        "To check average number of nights people have stayed in each types of rooms in all the neighbourhood group "
      ],
      "metadata": {
        "id": "EKwZWw5d3mJg"
      }
    },
    {
      "cell_type": "markdown",
      "source": [
        "##### 2. What is/are the insight(s) found from the chart?"
      ],
      "metadata": {
        "id": "Y8cWEbiMxm-h"
      }
    },
    {
      "cell_type": "markdown",
      "source": [
        "1. In the shown candle graph, x-axis represents the types of rooms and y-axis represents the neighbourhood group.\n",
        "2. Manhattan have maximum average night stays overall."
      ],
      "metadata": {
        "id": "e321psoq4WP8"
      }
    },
    {
      "cell_type": "markdown",
      "source": [
        "##### 3. Will the gained insights help creating a positive business impact? "
      ],
      "metadata": {
        "id": "FCscqAFQyRe9"
      }
    },
    {
      "cell_type": "markdown",
      "source": [
        "Bookings can be done by seeing the insights of these datas."
      ],
      "metadata": {
        "id": "UknviZcf4eaI"
      }
    },
    {
      "cell_type": "markdown",
      "source": [
        "#### Chart - 9"
      ],
      "metadata": {
        "id": "Ci_Xzes7uc3i"
      }
    },
    {
      "cell_type": "markdown",
      "source": [
        "* What is the correlation in the given dataset Listings provided by AirBnB"
      ],
      "metadata": {
        "id": "QmxG1HEGeWZs"
      }
    },
    {
      "cell_type": "code",
      "source": [
        "#Extract the columns for which you need to get the correlations in the given dataset\n",
        "df_corr=df[['latitude','longitude','room_type','price','minimum_nights','number_of_reviews','last_review','reviews_per_month','calculated_host_listings_count','availability_365']]\n",
        "corr_df=df_corr.corr()\n",
        "corr_df"
      ],
      "metadata": {
        "id": "FlVwaDM9fQ-M"
      },
      "execution_count": null,
      "outputs": []
    },
    {
      "cell_type": "code",
      "source": [
        "#Lets Plot the corelation between coloumns in AirBnB listings\n",
        "plt.figure(figsize=(10,5))\n",
        "sns.heatmap(corr_df,annot=True,cmap='BuGn')"
      ],
      "metadata": {
        "id": "0uj4YDETjYA8"
      },
      "execution_count": null,
      "outputs": []
    },
    {
      "cell_type": "markdown",
      "source": [
        "##### 1. Why did you pick the specific chart?"
      ],
      "metadata": {
        "id": "DAdez-uqxNxY"
      }
    },
    {
      "cell_type": "markdown",
      "source": [
        "To check the coorelation between different datas in the dataset."
      ],
      "metadata": {
        "id": "7BLkdV-V4s2M"
      }
    },
    {
      "cell_type": "markdown",
      "source": [
        "##### 2. What is/are the insight(s) found from the chart?"
      ],
      "metadata": {
        "id": "QWeRbdH4xlBp"
      }
    },
    {
      "cell_type": "markdown",
      "source": [
        "The correlation shown are positive related correlation since most of datas lies on the positive side."
      ],
      "metadata": {
        "id": "JddXXdPz45Jw"
      }
    },
    {
      "cell_type": "markdown",
      "source": [
        "##### 3. Will the gained insights help creating a positive business impact? "
      ],
      "metadata": {
        "id": "OwuNV-HSyT4T"
      }
    },
    {
      "cell_type": "markdown",
      "source": [
        "It gives the insight if the coorelation is on a positive or negative side."
      ],
      "metadata": {
        "id": "RK10X0NC5OpZ"
      }
    },
    {
      "cell_type": "markdown",
      "source": [
        "#### Chart - 10"
      ],
      "metadata": {
        "id": "YTw2IY2luhFO"
      }
    },
    {
      "cell_type": "markdown",
      "source": [
        "* Plot the graph to show room type location of hotels according to their lattitude and longitude"
      ],
      "metadata": {
        "id": "k4sliq7snlon"
      }
    },
    {
      "cell_type": "code",
      "source": [
        "#checking the null values in latitude and longitude.\n",
        "df['latitude'].isnull().sum()\n",
        "df['longitude'].isnull().sum()"
      ],
      "metadata": {
        "id": "JRIi4nFgr6Bo"
      },
      "execution_count": null,
      "outputs": []
    },
    {
      "cell_type": "code",
      "source": [
        "#Plotting a scatter plot using seaborne library for room types available at each lattitude and longitude.\n",
        "x=df.latitude\n",
        "y=df.longitude\n",
        "room_type_plot=df.room_type\n",
        "sns.set(rc={'figure.figsize':(15,8)})\n",
        "sns.scatterplot(x, y, room_type_plot)\n",
        "plt.title('A Plot for types of rooms available at different locations',fontsize=15)"
      ],
      "metadata": {
        "id": "pm6eceS8nkth"
      },
      "execution_count": null,
      "outputs": []
    },
    {
      "cell_type": "markdown",
      "source": [
        "##### 1. Why did you pick the specific chart?"
      ],
      "metadata": {
        "id": "SZBwd1RTxQMk"
      }
    },
    {
      "cell_type": "markdown",
      "source": [
        "To see how the rooms are scattered along the map."
      ],
      "metadata": {
        "id": "ucPq1zLY5ipo"
      }
    },
    {
      "cell_type": "markdown",
      "source": [
        "##### 2. What is/are the insight(s) found from the chart?"
      ],
      "metadata": {
        "id": "pQsQisCIxjBh"
      }
    },
    {
      "cell_type": "markdown",
      "source": [
        "1. In the graph shown, x-axis represent latitude and y-axis represents longitude.  \n",
        "2.  From the graph, the insights we got is that shared rooms are less used than private and entire rooms. "
      ],
      "metadata": {
        "id": "_QbuqzS45sCt"
      }
    },
    {
      "cell_type": "markdown",
      "source": [
        "##### 3. Will the gained insights help creating a positive business impact? "
      ],
      "metadata": {
        "id": "ufE6Yz3iyWfC"
      }
    },
    {
      "cell_type": "markdown",
      "source": [
        "A good insights to check where the properties are located fromeach other according to the room type."
      ],
      "metadata": {
        "id": "K4SXxSr151dD"
      }
    },
    {
      "cell_type": "code",
      "source": [
        "for i in df:\n",
        "  print(i)"
      ],
      "metadata": {
        "id": "eiFlgQ8upoMX"
      },
      "execution_count": null,
      "outputs": []
    },
    {
      "cell_type": "markdown",
      "source": [
        "### Dataset Rows & Columns count"
      ],
      "metadata": {
        "id": "7hBIi_osiCS2"
      }
    },
    {
      "cell_type": "code",
      "source": [
        "# Dataset Rows & Columns count\n",
        "df.shape"
      ],
      "metadata": {
        "id": "Kllu7SJgmLij"
      },
      "execution_count": null,
      "outputs": []
    },
    {
      "cell_type": "markdown",
      "source": [
        "### Dataset Information"
      ],
      "metadata": {
        "id": "JlHwYmJAmNHm"
      }
    },
    {
      "cell_type": "code",
      "source": [
        "# Dataset Info\n",
        "df.info()"
      ],
      "metadata": {
        "id": "e9hRXRi6meOf"
      },
      "execution_count": null,
      "outputs": []
    },
    {
      "cell_type": "markdown",
      "source": [
        "#### Duplicate Values"
      ],
      "metadata": {
        "id": "35m5QtbWiB9F"
      }
    },
    {
      "cell_type": "code",
      "source": [
        "# Dataset Duplicate Value Count\n",
        "dupe_price=df['price'].duplicated().sum()\n",
        "dupe_room_type=df['room_type'].duplicated().sum()\n",
        "check_null_count_dupe_values=[dupe_price,dupe_room_type,df.shape]\n",
        "check_null_count_dupe_values #3 datas are unique regarding which the values are checked upon"
      ],
      "metadata": {
        "id": "1sLdpKYkmox0"
      },
      "execution_count": null,
      "outputs": []
    },
    {
      "cell_type": "markdown",
      "source": [
        "#### Missing Values/Null Values"
      ],
      "metadata": {
        "id": "PoPl-ycgm1ru"
      }
    },
    {
      "cell_type": "code",
      "source": [
        "# Missing Values/Null Values Count\n",
        "null_sum_df=df.isnull().sum()\n",
        "null_sum_df"
      ],
      "metadata": {
        "id": "GgHWkxvamxVg"
      },
      "execution_count": null,
      "outputs": []
    },
    {
      "cell_type": "code",
      "source": [
        "# Visualizing the missing values\n",
        "data_visualization=df[df.isnull()]\n",
        "data_visualization"
      ],
      "metadata": {
        "id": "3q5wnI3om9sJ"
      },
      "execution_count": null,
      "outputs": []
    },
    {
      "cell_type": "code",
      "source": [
        "\n",
        "data_visualization_modify=df[~df.isnull()]\n",
        "data_visualization_modify"
      ],
      "metadata": {
        "id": "30I336Qmm-ka"
      },
      "execution_count": null,
      "outputs": []
    },
    {
      "cell_type": "markdown",
      "source": [
        "### What did you know about your dataset?"
      ],
      "metadata": {
        "id": "H0kj-8xxnORC"
      }
    },
    {
      "cell_type": "markdown",
      "source": [
        "There are 16 columns in AirBnB dataset and 48895 rows and the dataset is representing the listings of AirBnB DataFrame where there are null values present in columns such as name,host_name,last_review,reviews_per_month\n",
        "and duplicate values are present.\n",
        "Here the columns Represents:\n",
        "\n",
        "\n",
        "\n",
        "\n"
      ],
      "metadata": {
        "id": "gfoNAAC-nUe_"
      }
    },
    {
      "cell_type": "markdown",
      "source": [
        "## ***2. Understanding Your Variables***"
      ],
      "metadata": {
        "id": "nA9Y7ga8ng1Z"
      }
    },
    {
      "cell_type": "code",
      "source": [
        "# Dataset \n",
        "for i in df:\n",
        "  print(i)"
      ],
      "metadata": {
        "id": "j7xfkqrt5Ag5"
      },
      "execution_count": null,
      "outputs": []
    },
    {
      "cell_type": "code",
      "source": [
        "# Dataset Describe\n",
        "df.describe()"
      ],
      "metadata": {
        "id": "DnOaZdaE5Q5t"
      },
      "execution_count": null,
      "outputs": []
    },
    {
      "cell_type": "markdown",
      "source": [
        "### Variables Description "
      ],
      "metadata": {
        "id": "PBTbrJXOngz2"
      }
    },
    {
      "cell_type": "markdown",
      "source": [
        "* id                                 -Unique ID\n",
        "* name                               -Listings of AirBnB\n",
        "* host_id                            -Unique ID of host\n",
        "* host_name                          -Hotel Owner\n",
        "* neighbourhood_group                -Cities where the listings are Present\n",
        "* neighbourhood                      -Street location\n",
        "* latitude                           -Latitude of listings\n",
        "* longitude                          -Longitude of Listings\n",
        "* room_type                          -Types of Rooms Available in listings\n",
        "* price                              -Price of each day per stay\n",
        "* minimum_nights                     -Minimum nights of stay\n",
        "* number_of_reviews                  -Review count\n",
        "* last_review                        -when was the last review made\n",
        "* reviews_per_month                  -Average per month review\n",
        "* calculated_host_listings_count     -Count of host in each listings\n",
        "* availability_365                   -Days for which listings operateAnswer Here"
      ],
      "metadata": {
        "id": "aJV4KIxSnxay"
      }
    },
    {
      "cell_type": "markdown",
      "source": [
        "### Check Unique Values for each variable."
      ],
      "metadata": {
        "id": "u3PMJOP6ngxN"
      }
    },
    {
      "cell_type": "code",
      "source": [
        "Unique_Values_in_each_column=[df['id'].unique(),df['name'].unique(),df['host_id'].unique(),df['host_name'].unique(),df['neighbourhood_group'].unique(),df['neighbourhood'].unique(),df['latitude'].unique(),df['longitude'].unique(),df['room_type'].unique(),df['price'].unique(),df['minimum_nights'].unique(),df['number_of_reviews'].unique(),df['last_review'].unique(),df['reviews_per_month'].unique(),df['calculated_host_listings_count'].unique(),df['availability_365'].unique()]\n",
        "Unique_Values_in_each_column"
      ],
      "metadata": {
        "id": "zms12Yq5n-jE"
      },
      "execution_count": null,
      "outputs": []
    },
    {
      "cell_type": "markdown",
      "source": [
        "## 3. ***Data Wrangling***"
      ],
      "metadata": {
        "id": "dauF4eBmngu3"
      }
    },
    {
      "cell_type": "markdown",
      "source": [
        "### Data Wrangling Code"
      ],
      "metadata": {
        "id": "bKJF3rekwFvQ"
      }
    },
    {
      "cell_type": "code",
      "source": [
        "# Write your code to make your dataset analysis ready.\n",
        "checking_zeros=df[df['price']==0]\n",
        "checking_zeros"
      ],
      "metadata": {
        "id": "wk-9a2fpoLcV"
      },
      "execution_count": null,
      "outputs": []
    },
    {
      "cell_type": "code",
      "source": [
        "removing_nan=df.fillna(0)\n",
        "removing_nan"
      ],
      "metadata": {
        "id": "fSOfy4_rnm-x"
      },
      "execution_count": null,
      "outputs": []
    },
    {
      "cell_type": "code",
      "source": [
        "dg=df[df['price']!=0] #cleaning up zeros from our dataframe where prices are zero\n",
        "dg.loc[dg['price']<=15, 'price'] = df['price'].median() \n",
        "dg"
      ],
      "metadata": {
        "id": "vJOBqi4DnyEn"
      },
      "execution_count": null,
      "outputs": []
    },
    {
      "cell_type": "markdown",
      "source": [
        "### What all manipulations have you done and insights you found?"
      ],
      "metadata": {
        "id": "MSa1f5Uengrz"
      }
    },
    {
      "cell_type": "markdown",
      "source": [
        "* Finding null values and replacing them with zero.\n",
        "* Finding zeros and replacing them with average values.\n",
        "* Finding maximum value in multiple group present inside the listings.\n",
        "* Finding minimum values multiple group present inside the listings.\n",
        "* Listings  that has good amount of reviews.\n",
        "* which neighbourhood people had longest stays."
      ],
      "metadata": {
        "id": "LbyXE7I1olp8"
      }
    },
    {
      "cell_type": "markdown",
      "source": [
        "## **5. Solution to Business Objective**"
      ],
      "metadata": {
        "id": "JcMwzZxoAimU"
      }
    },
    {
      "cell_type": "markdown",
      "source": [
        "#### What do you suggest the client to achieve Business Objective ? \n",
        "Explain Briefly."
      ],
      "metadata": {
        "id": "8G2x9gOozGDZ"
      }
    },
    {
      "cell_type": "markdown",
      "source": [
        "* Client can build a consistency in their business as travelers may not find things that may be provided in the listings and prices set accordingly by property owners.\n",
        "* Needs to check out on properties that may not be functioning properly.\n",
        "* Can use this insight as an oppertunity for better investments."
      ],
      "metadata": {
        "id": "pASKb0qOza21"
      }
    },
    {
      "cell_type": "markdown",
      "source": [
        "# **Conclusion**"
      ],
      "metadata": {
        "id": "gCX9965dhzqZ"
      }
    },
    {
      "cell_type": "markdown",
      "source": [
        " AirBnB which is a service providing company to the property owners is better than bookings done towards hotels because the properties comes up with kitchen service where people can cook for themselves it is very cost efficient way of making bookings by the travellers.\n",
        " we have got an insights that Queens and Manhatten are the costliest among properties and which are the busiest neighbourhood among the listings.  "
      ],
      "metadata": {
        "id": "Fjb1IsQkh3yE"
      }
    },
    {
      "cell_type": "markdown",
      "source": [
        "### ***Hurrah! You have successfully completed your EDA Capstone Project !!!***"
      ],
      "metadata": {
        "id": "gIfDvo9L0UH2"
      }
    }
  ]
}